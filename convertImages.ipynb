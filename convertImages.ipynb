{
 "cells": [
  {
   "cell_type": "code",
   "execution_count": null,
   "metadata": {},
   "outputs": [],
   "source": [
    "# !pip install Pillow\n"
   ]
  },
  {
   "cell_type": "code",
   "execution_count": 1,
   "metadata": {},
   "outputs": [],
   "source": [
    "from PIL import Image\n",
    "import os\n"
   ]
  },
  {
   "cell_type": "code",
   "execution_count": 2,
   "metadata": {},
   "outputs": [],
   "source": [
    "\n",
    "def convert_webp_to_png(input_folder, output_folder):\n",
    "    # Ensure the output folder exists\n",
    "    os.makedirs(output_folder, exist_ok=True)\n",
    "\n",
    "    # Loop through all files in the input folder\n",
    "    for filename in os.listdir(input_folder):\n",
    "        input_path = os.path.join(input_folder, filename)\n",
    "\n",
    "        # Check if the file is a WebP image\n",
    "        if filename.lower().endswith('.webp'):\n",
    "            output_path = os.path.join(output_folder, os.path.splitext(filename)[0] + '.png')\n",
    "\n",
    "            # Open the WebP image and save it as PNG\n",
    "            with Image.open(input_path) as img:\n",
    "                img.save(output_path, 'PNG')\n",
    "                print(f\"Converted {filename} to {os.path.basename(output_path)}\")\n"
   ]
  },
  {
   "cell_type": "code",
   "execution_count": 4,
   "metadata": {},
   "outputs": [
    {
     "name": "stdout",
     "output_type": "stream",
     "text": [
      "Converted Azarathag.webp to Azarathag.png\n",
      "Converted azothane.webp to azothane.png\n",
      "Converted borisych.webp to borisych.png\n",
      "Converted BrothoftheUnknown.webp to BrothoftheUnknown.png\n",
      "Converted Bugatti.webp to Bugatti.png\n",
      "Converted Celestial.webp to Celestial.png\n",
      "Converted ConfectioneryDreamscape.webp to ConfectioneryDreamscape.png\n",
      "Converted DeeDoesAI.webp to DeeDoesAI.png\n",
      "Converted Dimo.webp to Dimo.png\n",
      "Converted EclipsedElysium.webp to EclipsedElysium.png\n",
      "Converted ExplosionFighting.webp to ExplosionFighting.png\n",
      "Converted FemaleAdventurer1.webp to FemaleAdventurer1.png\n",
      "Converted FemaleAdventurer2.webp to FemaleAdventurer2.png\n",
      "Converted FemaleAdventurer3.webp to FemaleAdventurer3.png\n",
      "Converted FemaleAdventurer4.webp to FemaleAdventurer4.png\n",
      "Converted FemaleAdventurer5.webp to FemaleAdventurer5.png\n",
      "Converted GhostRider.webp to GhostRider.png\n",
      "Converted GlitchMinotaur.webp to GlitchMinotaur.png\n",
      "Converted JawKnee.webp to JawKnee.png\n",
      "Converted Jellyfish.webp to Jellyfish.png\n",
      "Converted jeremyjf94.webp to jeremyjf94.png\n",
      "Converted Kab1k.webp to Kab1k.png\n",
      "Converted kentox.webp to kentox.png\n",
      "Converted MachinedSeraphim.webp to MachinedSeraphim.png\n",
      "Converted Malakai030.webp to Malakai030.png\n",
      "Converted Malakai030_1.webp to Malakai030_1.png\n",
      "Converted Malakai030_2.webp to Malakai030_2.png\n",
      "Converted MotorCycle.webp to MotorCycle.png\n",
      "Converted NeoRenaissanceMan.webp to NeoRenaissanceMan.png\n",
      "Converted RobotDragon.webp to RobotDragon.png\n",
      "Converted Siloa.webp to Siloa.png\n",
      "Converted StevenP.webp to StevenP.png\n",
      "Converted TreeMan.webp to TreeMan.png\n",
      "Converted Viniciusm.webp to Viniciusm.png\n",
      "Converted 你大爺.webp to 你大爺.png\n"
     ]
    }
   ],
   "source": [
    "\n",
    "if __name__ == \"__main__\":\n",
    "    input_folder = \"webp\"\n",
    "    output_folder = \"png\"\n",
    "\n",
    "    convert_webp_to_png(input_folder, output_folder)\n"
   ]
  }
 ],
 "metadata": {
  "kernelspec": {
   "display_name": "venv_convertImages",
   "language": "python",
   "name": "python3"
  },
  "language_info": {
   "codemirror_mode": {
    "name": "ipython",
    "version": 3
   },
   "file_extension": ".py",
   "mimetype": "text/x-python",
   "name": "python",
   "nbconvert_exporter": "python",
   "pygments_lexer": "ipython3",
   "version": "3.11.5"
  }
 },
 "nbformat": 4,
 "nbformat_minor": 2
}
